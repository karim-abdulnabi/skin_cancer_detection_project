{
 "cells": [
  {
   "cell_type": "code",
   "execution_count": 22,
   "id": "5c880d18",
   "metadata": {},
   "outputs": [],
   "source": [
    "from keras.models import Sequential\n",
    "from keras.layers import Convolution2D , MaxPooling2D , Flatten ,Dense\n",
    "import matplotlib.pyplot as plt\n",
    "import warnings \n",
    "warnings.filterwarnings(\"ignore\")"
   ]
  },
  {
   "cell_type": "markdown",
   "id": "ae9a8b6c",
   "metadata": {},
   "source": [
    "### intialinsing the CNN"
   ]
  },
  {
   "cell_type": "code",
   "execution_count": 146,
   "id": "c2f801e6",
   "metadata": {},
   "outputs": [],
   "source": [
    "classifier = Sequential()"
   ]
  },
  {
   "cell_type": "code",
   "execution_count": 147,
   "id": "ce4ae7f4",
   "metadata": {},
   "outputs": [],
   "source": [
    "classifier.add(Convolution2D(64 , 3 , 3 , input_shape=(64 , 64 , 3) , activation = \"relu\"))\n",
    "\n",
    "classifier.add(MaxPooling2D(pool_size=(2 , 2)))\n",
    "\n",
    "classifier.add(Convolution2D(64 , 3 , 3 , activation=\"relu\"))\n",
    "\n",
    "classifier.add(MaxPooling2D(pool_size=(2 , 2)))\n",
    "\n",
    "classifier.add(Flatten())\n",
    "\n",
    "classifier.add(Dense( units = 128 , activation = \"relu\" ))\n",
    "#classifier.add(Dense(NUM_CLASSES, activation='softmax'))\n",
    "\n",
    "classifier.add(Dense(units = 1 , activation = \"sigmoid\"))\n",
    "\n",
    "classifier.compile(optimizer=\"adam\" , loss=\"binary_crossentropy\" , metrics=[\"accuracy\"])"
   ]
  },
  {
   "cell_type": "code",
   "execution_count": 148,
   "id": "cc2cad10",
   "metadata": {},
   "outputs": [],
   "source": [
    "from keras_preprocessing.image import ImageDataGenerator"
   ]
  },
  {
   "cell_type": "code",
   "execution_count": 149,
   "id": "8cfc4e81",
   "metadata": {},
   "outputs": [],
   "source": [
    "train_datagn = ImageDataGenerator(rescale=1/255 , shear_range=0.2 , zoom_range=0.2 , horizontal_flip=True)"
   ]
  },
  {
   "cell_type": "code",
   "execution_count": 150,
   "id": "6bce3e98",
   "metadata": {},
   "outputs": [],
   "source": [
    "test_datagen = ImageDataGenerator(rescale=1/255)"
   ]
  },
  {
   "cell_type": "code",
   "execution_count": 151,
   "id": "df6c176b",
   "metadata": {},
   "outputs": [
    {
     "name": "stdout",
     "output_type": "stream",
     "text": [
      "Found 2635 images belonging to 2 classes.\n"
     ]
    }
   ],
   "source": [
    "training_set = train_datagn.flow_from_directory(\"Data_skin/train\" , target_size=(64 , 64) , batch_size=32 , class_mode=\"binary\")"
   ]
  },
  {
   "cell_type": "code",
   "execution_count": 152,
   "id": "9f530af6",
   "metadata": {},
   "outputs": [
    {
     "name": "stdout",
     "output_type": "stream",
     "text": [
      "Found 660 images belonging to 2 classes.\n"
     ]
    }
   ],
   "source": [
    "test_set = test_datagen.flow_from_directory(\"Data_skin/test\" , target_size=(64 , 64) , batch_size=32 , class_mode=\"binary\")"
   ]
  },
  {
   "cell_type": "code",
   "execution_count": 160,
   "id": "523419de",
   "metadata": {},
   "outputs": [
    {
     "name": "stdout",
     "output_type": "stream",
     "text": [
      "Epoch 1/55\n",
      " 83/900 [=>............................] - ETA: 1:22 - loss: 0.3984 - accuracy: 0.8095WARNING:tensorflow:Your input ran out of data; interrupting training. Make sure that your dataset or generator can generate at least `steps_per_epoch * epochs` batches (in this case, 49500 batches). You may need to use the repeat() function when building your dataset.\n",
      "WARNING:tensorflow:Your input ran out of data; interrupting training. Make sure that your dataset or generator can generate at least `steps_per_epoch * epochs` batches (in this case, 400 batches). You may need to use the repeat() function when building your dataset.\n",
      "900/900 [==============================] - 10s 11ms/step - loss: 0.3984 - accuracy: 0.8095 - val_loss: 0.3765 - val_accuracy: 0.8212\n"
     ]
    }
   ],
   "source": [
    "hist = classifier.fit_generator(training_set ,\n",
    "                                steps_per_epoch=900 ,\n",
    "                                epochs = 55 ,\n",
    "                                validation_data=test_set ,\n",
    "                                validation_steps = 400)"
   ]
  },
  {
   "cell_type": "code",
   "execution_count": 1,
   "id": "e109c020",
   "metadata": {},
   "outputs": [
    {
     "data": {
      "text/plain": [
       "'fig , ax = plt.subplot(1 , 2 , figsize = (10 , 3))\\nax  = ax,ravel()\\nfor i , met , in enumerate([\"accuracy\" , \"loss\"]):\\n    ax[i].plot(hist.history[met])\\n    ax[i].plot(hist.history[\"val_\" + met])\\n    ax[i].set_title(\"Model{}\".format(met))\\n    ax[i].set_xlabel(\"epochs\")\\n    ax[i].set_ylabel(met)\\n    ax[i].legend([\"train\" , \"val\"])\\nplt.show()    '"
      ]
     },
     "execution_count": 1,
     "metadata": {},
     "output_type": "execute_result"
    }
   ],
   "source": [
    "\"\"\"\n",
    "fig , ax = plt.subplot(1 , 2 , figsize = (10 , 3))\n",
    "ax  = ax,ravel()\n",
    "for i , met , in enumerate([\"accuracy\" , \"loss\"]):\n",
    "    ax[i].plot(hist.history[met])\n",
    "    ax[i].plot(hist.history[\"val_\" + met])\n",
    "    ax[i].set_title(\"Model{}\".format(met))\n",
    "    ax[i].set_xlabel(\"epochs\")\n",
    "    ax[i].set_ylabel(met)\n",
    "    ax[i].legend([\"train\" , \"val\"])\n",
    "plt.show()    \n",
    "\"\"\""
   ]
  },
  {
   "cell_type": "code",
   "execution_count": 173,
   "id": "83997d29",
   "metadata": {},
   "outputs": [],
   "source": [
    "import numpy as np\n",
    "from keras_preprocessing import image"
   ]
  },
  {
   "cell_type": "code",
   "execution_count": 176,
   "id": "88ff4d4a",
   "metadata": {},
   "outputs": [],
   "source": [
    "test_image = image.load_img(r\"Data_skin/single_prediction/benign.jpg\" , target_size=(64 , 64))"
   ]
  },
  {
   "cell_type": "code",
   "execution_count": 177,
   "id": "e17c651c",
   "metadata": {},
   "outputs": [
    {
     "name": "stdout",
     "output_type": "stream",
     "text": [
      "1/1 [==============================] - 0s 21ms/step\n"
     ]
    }
   ],
   "source": [
    "test_image = image.img_to_array(test_image)\n",
    "\n",
    "test_image = np.expand_dims(test_image , axis=0)\n",
    "\n",
    "result_train = classifier.predict(test_image)\n",
    "\n",
    "#print(training_set.classifier.class_indices)"
   ]
  },
  {
   "cell_type": "code",
   "execution_count": 178,
   "id": "3e51747a",
   "metadata": {},
   "outputs": [
    {
     "name": "stdout",
     "output_type": "stream",
     "text": [
      "the precision result is:  benign\n"
     ]
    }
   ],
   "source": [
    "\n",
    "if result_train[0][0] == 0:\n",
    "    prediction = \"benign\"\n",
    "else:\n",
    "    prediction = \"malignant\"\n",
    "print(\"the precision result is: \" , prediction)    "
   ]
  },
  {
   "cell_type": "code",
   "execution_count": 179,
   "id": "e09b7617",
   "metadata": {},
   "outputs": [],
   "source": [
    "test_image = image.load_img(r\"Data_skin/single_prediction/malignant.jpg\" , target_size=(64 , 64))"
   ]
  },
  {
   "cell_type": "code",
   "execution_count": 180,
   "id": "09ba04e9",
   "metadata": {},
   "outputs": [
    {
     "name": "stdout",
     "output_type": "stream",
     "text": [
      "1/1 [==============================] - 0s 21ms/step\n"
     ]
    }
   ],
   "source": [
    "test_image = image.img_to_array(test_image)\n",
    "test_image = np.expand_dims(test_image , axis = 0)\n",
    "result_test = classifier.predict(test_image)"
   ]
  },
  {
   "cell_type": "code",
   "execution_count": 181,
   "id": "6b235d40",
   "metadata": {},
   "outputs": [
    {
     "name": "stdout",
     "output_type": "stream",
     "text": [
      "the precision result is:  malignant\n"
     ]
    }
   ],
   "source": [
    "if result_test[0][0] == 0:\n",
    "    prediction = \"benign\"\n",
    "else:\n",
    "    prediction = \"malignant\"\n",
    "print(\"the precision result is: \" , prediction)"
   ]
  },
  {
   "cell_type": "code",
   "execution_count": null,
   "id": "b0ca114f",
   "metadata": {},
   "outputs": [],
   "source": []
  },
  {
   "cell_type": "code",
   "execution_count": null,
   "id": "22e5fc96",
   "metadata": {},
   "outputs": [],
   "source": []
  }
 ],
 "metadata": {
  "kernelspec": {
   "display_name": "Python 3",
   "language": "python",
   "name": "python3"
  },
  "language_info": {
   "codemirror_mode": {
    "name": "ipython",
    "version": 3
   },
   "file_extension": ".py",
   "mimetype": "text/x-python",
   "name": "python",
   "nbconvert_exporter": "python",
   "pygments_lexer": "ipython3",
   "version": "3.8.8"
  },
  "varInspector": {
   "cols": {
    "lenName": 16,
    "lenType": 16,
    "lenVar": 40
   },
   "kernels_config": {
    "python": {
     "delete_cmd_postfix": "",
     "delete_cmd_prefix": "del ",
     "library": "var_list.py",
     "varRefreshCmd": "print(var_dic_list())"
    },
    "r": {
     "delete_cmd_postfix": ") ",
     "delete_cmd_prefix": "rm(",
     "library": "var_list.r",
     "varRefreshCmd": "cat(var_dic_list()) "
    }
   },
   "types_to_exclude": [
    "module",
    "function",
    "builtin_function_or_method",
    "instance",
    "_Feature"
   ],
   "window_display": false
  }
 },
 "nbformat": 4,
 "nbformat_minor": 5
}
